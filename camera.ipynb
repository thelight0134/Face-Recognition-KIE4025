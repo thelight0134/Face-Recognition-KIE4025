{
 "cells": [
  {
   "cell_type": "code",
   "execution_count": 1,
   "metadata": {},
   "outputs": [
    {
     "name": "stdout",
     "output_type": "stream",
     "text": [
      "Running on device: cuda:0\n"
     ]
    }
   ],
   "source": [
    "from facenet_pytorch import MTCNN\n",
    "import torch\n",
    "DEVICE = torch.device('cuda:0' if torch.cuda.is_available() else 'cpu')\n",
    "print('Running on device: {}'.format(DEVICE))\n",
    "mtcnn = MTCNN(keep_all=True, device=DEVICE)"
   ]
  },
  {
   "cell_type": "code",
   "execution_count": 2,
   "metadata": {},
   "outputs": [],
   "source": [
    "import torchvision.transforms as transforms\n",
    "from facenet_pytorch import InceptionResnetV1\n",
    "\n",
    "resnet = InceptionResnetV1(pretrained='vggface2').eval().to(DEVICE)\n",
    "transform = transforms.Compose([\n",
    "    transforms.ToTensor(),\n",
    "    transforms.Normalize((0.5,0.5,0.5),(0.5,0.5,0.5))\n",
    "])\n",
    "\n",
    "def get_emb(img_tensor):\n",
    "    return resnet(img_tensor.to(DEVICE)).detach().cpu()"
   ]
  },
  {
   "cell_type": "code",
   "execution_count": 3,
   "metadata": {},
   "outputs": [],
   "source": [
    "import pickle\n",
    "\n",
    "with open('./model/FaceNet-SVM.pkl', 'rb') as f:\n",
    "    model = pickle.load(f)\n",
    "\n",
    "with open('./model/encoder.pkl', 'rb') as f:\n",
    "    encoder = pickle.load(f)"
   ]
  },
  {
   "cell_type": "code",
   "execution_count": 7,
   "metadata": {},
   "outputs": [],
   "source": [
    "import time\n",
    "import cv2\n",
    "import numpy as np\n",
    "  \n",
    "vid = cv2.VideoCapture(0)\n",
    "window_handle = cv2.namedWindow('Camera', cv2.WINDOW_AUTOSIZE)\n",
    "\n",
    "update_per_frame = 5\n",
    "prev_frame_time = 0\n",
    "new_frame_time = 0\n",
    "frame_count = 0\n",
    "fps = \"0\"\n",
    "detected = False\n",
    "\n",
    "result = []\n",
    "result_prob = []\n",
    "x1 = []\n",
    "y1 = []\n",
    "x2 = []\n",
    "y2 = []\n",
    "\n",
    "font = cv2.FONT_HERSHEY_SIMPLEX\n",
    "green = (100, 255, 0)\n",
    "yellow = (100, 255, 255)\n",
    "red = (0, 0, 255)\n",
    "\n",
    "while True:\n",
    "    # Read\n",
    "    ret, frame = vid.read()\n",
    "    frame = cv2.flip(frame, 1)\n",
    "\n",
    "    # Update\n",
    "    frame_count = frame_count + 1\n",
    "    if frame_count > update_per_frame:\n",
    "\n",
    "        new_frame_time = time.time()\n",
    "        fps = str(int(frame_count/(new_frame_time-prev_frame_time)))\n",
    "        frame_count = 0\n",
    "        \n",
    "        boxes, _ = mtcnn.detect(frame)\n",
    "        if boxes is not None:\n",
    "            detected = True\n",
    "\n",
    "            boxes = boxes.astype(int)\n",
    "            x1 = boxes[:,0]\n",
    "            y1 = boxes[:,1]\n",
    "            x2 = boxes[:,2]\n",
    "            y2 = boxes[:,3]\n",
    "\n",
    "            faces = mtcnn(frame)\n",
    "            embs = get_emb(faces)\n",
    "            outputs = model.predict(embs)\n",
    "            output_probs = model.predict_proba(embs)\n",
    "            results = encoder.inverse_transform(outputs)\n",
    "            result_probs = np.max(output_probs*100, axis=1)\n",
    "\n",
    "        else:\n",
    "            detected = False\n",
    "            pass\n",
    "\n",
    "    # Draw\n",
    "    if detected:\n",
    "        for i in range(len(results)):\n",
    "            if result_probs[i] > 80:\n",
    "                frame = cv2.rectangle(frame, (x1[i], y1[i]), (x2[i], y2[i]), green, 2)\n",
    "                label = f'{results[i]} ({round(result_probs[i], 2)}%)'\n",
    "                cv2.putText(frame, label, (x1[i], y1[i]-10), font, 0.5, green,2)\n",
    "            else:\n",
    "                frame = cv2.rectangle(frame, (x1[i], y1[i]), (x2[i], y2[i]), red, 2)\n",
    "                cv2.putText(frame, 'unknown', (x1[i], y1[i]-10), font, 0.5, red,2)\n",
    "    cv2.putText(frame, fps, (0, 25), font, 1, green, 2)\n",
    "    cv2.imshow('Camera', frame)\n",
    "    cv2.waitKey(1)\n",
    "    try:\n",
    "        cv2.getWindowProperty('Camera', 0)\n",
    "    except:\n",
    "        break\n",
    "    prev_frame_time = new_frame_time\n",
    "  \n",
    "vid.release()\n",
    "cv2.destroyAllWindows()"
   ]
  }
 ],
 "metadata": {
  "kernelspec": {
   "display_name": "torch",
   "language": "python",
   "name": "python3"
  },
  "language_info": {
   "codemirror_mode": {
    "name": "ipython",
    "version": 3
   },
   "file_extension": ".py",
   "mimetype": "text/x-python",
   "name": "python",
   "nbconvert_exporter": "python",
   "pygments_lexer": "ipython3",
   "version": "3.8.16"
  },
  "orig_nbformat": 4
 },
 "nbformat": 4,
 "nbformat_minor": 2
}
